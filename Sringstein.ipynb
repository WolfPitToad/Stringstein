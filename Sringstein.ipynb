{
  "nbformat": 4,
  "nbformat_minor": 0,
  "metadata": {
    "colab": {
      "provenance": [],
      "collapsed_sections": [],
      "authorship_tag": "ABX9TyOhDq5WTDOJqiZurIEX2a2B",
      "include_colab_link": true
    },
    "kernelspec": {
      "name": "python3",
      "display_name": "Python 3"
    },
    "language_info": {
      "name": "python"
    },
    "accelerator": "GPU"
  },
  "cells": [
    {
      "cell_type": "markdown",
      "metadata": {
        "id": "view-in-github",
        "colab_type": "text"
      },
      "source": [
        "<a href=\"https://colab.research.google.com/github/WolfPitToad/Stringstein/blob/main/Sringstein.ipynb\" target=\"_parent\"><img src=\"https://colab.research.google.com/assets/colab-badge.svg\" alt=\"Open In Colab\"/></a>"
      ]
    },
    {
      "cell_type": "code",
      "execution_count": null,
      "metadata": {
        "id": "YCkSQLKdrpCu"
      },
      "outputs": [],
      "source": [
        "#Import Modules\n",
        "import matplotlib.pyplot as plt\n",
        "import requests\n",
        "import nltk\n",
        "import re\n",
        "from bs4 import BeautifulSoup\n",
        "import numpy as np\n",
        "import random\n",
        "import tensorflow as tf\n",
        "import os"
      ]
    },
    {
      "cell_type": "code",
      "source": [
        "from traitlets.utils import text\n",
        "url= 'https://www.gutenberg.org/cache/epub/42324/pg42324.txt' #Url\n",
        "book=requests.get(url) \n",
        "soup=BeautifulSoup(book.text,'html.parser')\n",
        "text=soup.get_text() #Generate the text\n",
        "print ('\"'+text[439289:439322]+'\"') #A phrase excracted from the book\n",
        "words=re.findall('\\w+',text)#list with all the words inside the text"
      ],
      "metadata": {
        "colab": {
          "base_uri": "https://localhost:8080/"
        },
        "id": "dzdbL_5osyvJ",
        "outputId": "c09da676-29eb-4b03-96eb-7970f556610b"
      },
      "execution_count": null,
      "outputs": [
        {
          "output_type": "stream",
          "name": "stdout",
          "text": [
            "\"Evil\r\n",
            "thenceforth became my good.\"\n"
          ]
        }
      ]
    },
    {
      "cell_type": "code",
      "source": [
        "#Eliminate Upper chracters from the data\n",
        "w_list=[]\n",
        "for word in words:\n",
        "  w_list.append(word.lower()) #Add another element in the list\n",
        "text_l=nltk.Text(w_list) \n",
        "#Get all the words frequency\n",
        "frqdis=nltk.FreqDist(w_list)\n",
        "#Generate unique vector of words in alphabetical order instead of frequency\n",
        "values, counts = np.unique(text_l, return_counts=True)\n",
        "frqdis.plot(15)"
      ],
      "metadata": {
        "colab": {
          "base_uri": "https://localhost:8080/",
          "height": 309
        },
        "id": "iVa7D1Pg1ibH",
        "outputId": "a8fd0228-13bd-4aa1-b0ae-df48c4598e63"
      },
      "execution_count": null,
      "outputs": [
        {
          "output_type": "display_data",
          "data": {
            "text/plain": [
              "<Figure size 432x288 with 1 Axes>"
            ],
            "image/png": "[encoded data removed]"
          },
          "metadata": {
            "needs_background": "light"
          }
        },
        {
          "output_type": "execute_result",
          "data": {
            "text/plain": [
              "<matplotlib.axes._subplots.AxesSubplot at 0x7f0d8c3f1890>"
            ]
          },
          "metadata": {},
          "execution_count": 3
        }
      ]
    },
    {
      "cell_type": "code",
      "source": [
        "#Get a random word from the list and its number of appearences }\n",
        "example_w = []\n",
        "for a in range (3):\n",
        "  rd_nums=np.random.randint(1,len(counts))\n",
        "  print ('Word \"'+ values[rd_nums]+ '\", times found:')\n",
        "  print(counts[rd_nums])\n",
        "  example_w.append(values[rd_nums])"
      ],
      "metadata": {
        "colab": {
          "base_uri": "https://localhost:8080/"
        },
        "id": "kBTos-dZ1PBV",
        "outputId": "37c79b60-136e-40e2-cdd9-21d4ae826398"
      },
      "execution_count": null,
      "outputs": [
        {
          "output_type": "stream",
          "name": "stdout",
          "text": [
            "Word \"forehead\", times found:\n",
            "2\n",
            "Word \"surrounded\", times found:\n",
            "18\n",
            "Word \"disliked\", times found:\n",
            "1\n"
          ]
        }
      ]
    },
    {
      "cell_type": "code",
      "source": [
        "#Get unique characters\n",
        "vocab = sorted(set(text))\n",
        "print(f'{len(vocab)} unique characters')"
      ],
      "metadata": {
        "colab": {
          "base_uri": "https://localhost:8080/"
        },
        "id": "lmwQvCKitGJ0",
        "outputId": "07ea58bb-6c01-427f-ce33-5508f5fc69d3"
      },
      "execution_count": null,
      "outputs": [
        {
          "output_type": "stream",
          "name": "stdout",
          "text": [
            "92 unique characters\n"
          ]
        }
      ]
    },
    {
      "cell_type": "code",
      "source": [
        "print(vocab)"
      ],
      "metadata": {
        "id": "pDmXQtEv3qOL",
        "colab": {
          "base_uri": "https://localhost:8080/"
        },
        "outputId": "fef0fbd5-30b8-454a-ce59-5395c21352d3"
      },
      "execution_count": null,
      "outputs": [
        {
          "output_type": "stream",
          "name": "stdout",
          "text": [
            "['\\n', '\\r', ' ', '!', '\"', '#', '$', '%', '&', \"'\", '(', ')', '*', ',', '-', '.', '/', '0', '1', '2', '3', '4', '5', '6', '7', '8', '9', ':', ';', '?', '@', 'A', 'B', 'C', 'D', 'E', 'F', 'G', 'H', 'I', 'J', 'K', 'L', 'M', 'N', 'O', 'P', 'Q', 'R', 'S', 'T', 'U', 'V', 'W', 'X', 'Y', 'Z', '[', ']', '_', 'a', 'b', 'c', 'd', 'e', 'f', 'g', 'h', 'i', 'j', 'k', 'l', 'm', 'n', 'o', 'p', 'q', 'r', 's', 't', 'u', 'v', 'w', 'x', 'y', 'z', 'æ', 'è', 'é', 'ê', 'ô', '\\ufeff']\n"
          ]
        }
      ]
    },
    {
      "cell_type": "code",
      "source": [
        "#Generate new vocabulary\n",
        "import string\n",
        "vocab = string.ascii_letters + \" .,;'1234567890\"+'\\r'+'\\n'\n",
        "print(vocab)"
      ],
      "metadata": {
        "colab": {
          "base_uri": "https://localhost:8080/"
        },
        "id": "orLs0cTYbB1I",
        "outputId": "371974aa-7031-4c77-a345-b1cb6e33bfb4"
      },
      "execution_count": null,
      "outputs": [
        {
          "output_type": "stream",
          "name": "stdout",
          "text": [
            "abcdefghijklmnopqrstuvwxyzABCDEFGHIJKLMNOPQRSTUVWXYZ .,;'1234567890\r\n",
            "\n"
          ]
        }
      ]
    },
    {
      "cell_type": "code",
      "source": [
        "#Encode chracters\n",
        "chars = tf.strings.unicode_split(example_w, input_encoding='UTF-8')\n",
        "ids_from_chars = tf.keras.layers.StringLookup(vocabulary=list(vocab), mask_token=None)\n",
        "ids = ids_from_chars(chars)\n",
        "print(ids)"
      ],
      "metadata": {
        "colab": {
          "base_uri": "https://localhost:8080/"
        },
        "id": "SP1rfsqlCQfQ",
        "outputId": "d82673f2-17fe-43cc-e92e-78e22231ce72"
      },
      "execution_count": null,
      "outputs": [
        {
          "output_type": "stream",
          "name": "stdout",
          "text": [
            "<tf.RaggedTensor [[6, 15, 18, 5, 8, 5, 1, 4], [19, 21, 18, 18, 15, 21, 14, 4, 5, 4],\n",
            " [4, 9, 19, 12, 9, 11, 5, 4]]>\n"
          ]
        }
      ]
    },
    {
      "cell_type": "code",
      "source": [
        "#Decoding characters\n",
        "chars_from_ids = tf.keras.layers.StringLookup(vocabulary=ids_from_chars.get_vocabulary(), invert=True, mask_token=None)\n",
        "chars_id = chars_from_ids(ids)\n",
        "tf.strings.reduce_join(chars_id, axis=-1).numpy()"
      ],
      "metadata": {
        "colab": {
          "base_uri": "https://localhost:8080/"
        },
        "id": "He5hQZqRCw_7",
        "outputId": "d5a6114f-92bd-4b46-f03e-d198bb3689ff"
      },
      "execution_count": null,
      "outputs": [
        {
          "output_type": "execute_result",
          "data": {
            "text/plain": [
              "array([b'forehead', b'surrounded', b'disliked'], dtype=object)"
            ]
          },
          "metadata": {},
          "execution_count": 82
        }
      ]
    },
    {
      "cell_type": "code",
      "source": [
        "def text_from_ids(ids):\n",
        "  return tf.strings.reduce_join(chars_from_ids(ids), axis=-1)"
      ],
      "metadata": {
        "id": "ivW-HZAXFImC"
      },
      "execution_count": null,
      "outputs": []
    },
    {
      "cell_type": "code",
      "source": [
        "all_ids = ids_from_chars(tf.strings.unicode_split(text, 'UTF-8'))\n",
        "all_ids"
      ],
      "metadata": {
        "colab": {
          "base_uri": "https://localhost:8080/"
        },
        "id": "HinnMJArFKfm",
        "outputId": "a0e897d8-63a3-4f02-a60b-5f54501c7470"
      },
      "execution_count": null,
      "outputs": [
        {
          "output_type": "execute_result",
          "data": {
            "text/plain": [
              "<tf.Tensor: shape=(465593,), dtype=int64, numpy=array([ 0, 46,  8, ..., 54, 68, 69])>"
            ]
          },
          "metadata": {},
          "execution_count": 84
        }
      ]
    },
    {
      "cell_type": "code",
      "source": [
        "ids_dataset = tf.data.Dataset.from_tensor_slices(all_ids)"
      ],
      "metadata": {
        "id": "Zzqpw5QeJ6os"
      },
      "execution_count": null,
      "outputs": []
    },
    {
      "cell_type": "code",
      "source": [
        "#Iter characters \n",
        "for ids in ids_dataset.take(23):\n",
        "    print(chars_from_ids(ids).numpy().decode('utf-8'))"
      ],
      "metadata": {
        "colab": {
          "base_uri": "https://localhost:8080/"
        },
        "id": "B-JtxpIkKMw8",
        "outputId": "a85216c0-ed86-4b07-c573-65c138dbde6e"
      },
      "execution_count": null,
      "outputs": [
        {
          "output_type": "stream",
          "name": "stdout",
          "text": [
            "[UNK]\n",
            "T\n",
            "h\n",
            "e\n",
            " \n",
            "P\n",
            "r\n",
            "o\n",
            "j\n",
            "e\n",
            "c\n",
            "t\n",
            " \n",
            "G\n",
            "u\n",
            "t\n",
            "e\n",
            "n\n",
            "b\n",
            "e\n",
            "r\n",
            "g\n",
            " \n"
          ]
        }
      ]
    },
    {
      "cell_type": "code",
      "source": [
        "seq_length = 100\n",
        "examples_per_epoch = len(text)//(seq_length+1)"
      ],
      "metadata": {
        "id": "12yAgtpfKhif"
      },
      "execution_count": null,
      "outputs": []
    },
    {
      "cell_type": "code",
      "source": [
        "sequences = ids_dataset.batch(seq_length+1, drop_remainder=True)\n",
        "for seq in sequences.take(1):\n",
        "  print(text_from_ids(seq).numpy())"
      ],
      "metadata": {
        "colab": {
          "base_uri": "https://localhost:8080/"
        },
        "id": "NclHntrFKmB4",
        "outputId": "c75ce8e6-b9f8-49ef-c668-b46eebf56080"
      },
      "execution_count": null,
      "outputs": [
        {
          "output_type": "stream",
          "name": "stdout",
          "text": [
            "b'[UNK]The Project Gutenberg EBook of Frankenstein, by Mary W. Shelley\\r\\n\\r\\nThis eBook is for the use of anyo'\n"
          ]
        }
      ]
    },
    {
      "cell_type": "code",
      "source": [
        "def split_input_target(sequence):\n",
        "    input_text = sequence[:-1]\n",
        "    target_text = sequence[1:]\n",
        "    return input_text, target_text"
      ],
      "metadata": {
        "id": "PD1q_GOKLywN"
      },
      "execution_count": null,
      "outputs": []
    },
    {
      "cell_type": "code",
      "source": [
        "split_input_target(list(\"Frankenstein\"))"
      ],
      "metadata": {
        "colab": {
          "base_uri": "https://localhost:8080/"
        },
        "id": "C4n1z8tVL2Tk",
        "outputId": "dbcda6bd-eaa3-46b8-fbbf-47a32afe0924"
      },
      "execution_count": null,
      "outputs": [
        {
          "output_type": "execute_result",
          "data": {
            "text/plain": [
              "(['F', 'r', 'a', 'n', 'k', 'e', 'n', 's', 't', 'e', 'i'],\n",
              " ['r', 'a', 'n', 'k', 'e', 'n', 's', 't', 'e', 'i', 'n'])"
            ]
          },
          "metadata": {},
          "execution_count": 90
        }
      ]
    },
    {
      "cell_type": "code",
      "source": [
        "dataset = sequences.map(split_input_target)"
      ],
      "metadata": {
        "id": "Vomp4SjLMLdm"
      },
      "execution_count": null,
      "outputs": []
    },
    {
      "cell_type": "code",
      "source": [
        "for input_example, target_example in dataset.take(1):\n",
        "    print(\"Input :\", text_from_ids(input_example).numpy())\n",
        "    print(\"Target:\", text_from_ids(target_example).numpy())"
      ],
      "metadata": {
        "colab": {
          "base_uri": "https://localhost:8080/"
        },
        "id": "EhhOmsubMPbZ",
        "outputId": "14b3c93d-a160-4b49-bc43-ae6510f44991"
      },
      "execution_count": null,
      "outputs": [
        {
          "output_type": "stream",
          "name": "stdout",
          "text": [
            "Input : b'[UNK]The Project Gutenberg EBook of Frankenstein, by Mary W. Shelley\\r\\n\\r\\nThis eBook is for the use of any'\n",
            "Target: b'The Project Gutenberg EBook of Frankenstein, by Mary W. Shelley\\r\\n\\r\\nThis eBook is for the use of anyo'\n"
          ]
        }
      ]
    },
    {
      "cell_type": "code",
      "source": [
        "# Batch size\n",
        "BATCH_SIZE = 256\n",
        "# Buffer size to shuffle the dataset\n",
        "# (TF data is designed to work with possibly infinite sequences,\n",
        "# so it doesn't attempt to shuffle the entire sequence in memory. Instead,\n",
        "# it maintains a buffer in which it shuffles elements).\n",
        "BUFFER_SIZE = 1000\n",
        "\n",
        "dataset = (\n",
        "    dataset\n",
        "    .shuffle(BUFFER_SIZE)\n",
        "    .batch(BATCH_SIZE, drop_remainder=True)\n",
        "    .prefetch(tf.data.experimental.AUTOTUNE))\n",
        "\n",
        "dataset"
      ],
      "metadata": {
        "colab": {
          "base_uri": "https://localhost:8080/"
        },
        "id": "2z083oqfMa94",
        "outputId": "dc45c503-1a99-4c87-e769-f6756e19ecdb"
      },
      "execution_count": null,
      "outputs": [
        {
          "output_type": "execute_result",
          "data": {
            "text/plain": [
              "<PrefetchDataset element_spec=(TensorSpec(shape=(256, 100), dtype=tf.int64, name=None), TensorSpec(shape=(256, 100), dtype=tf.int64, name=None))>"
            ]
          },
          "metadata": {},
          "execution_count": 93
        }
      ]
    },
    {
      "cell_type": "code",
      "source": [
        "# Length of the vocabulary in chars\n",
        "vocab_size = len(vocab)\n",
        "\n",
        "# The embedding dimension\n",
        "embedding_dim = 256\n",
        "\n",
        "# Number of RNN units\n",
        "rnn_units = 1024"
      ],
      "metadata": {
        "id": "VrCdZmRJMhaw"
      },
      "execution_count": null,
      "outputs": []
    },
    {
      "cell_type": "markdown",
      "source": [
        "# Modelo extraido de: https://www.tensorflow.org/text/tutorials/text_generation"
      ],
      "metadata": {
        "id": "ID1Md4vU3WK9"
      }
    },
    {
      "cell_type": "code",
      "source": [
        "class MyModel(tf.keras.Model):\n",
        "  def __init__(self, vocab_size, embedding_dim, rnn_units):\n",
        "    super().__init__(self)\n",
        "    self.embedding = tf.keras.layers.Embedding(vocab_size, embedding_dim)\n",
        "    self.gru = tf.keras.layers.GRU(rnn_units,\n",
        "                                   return_sequences=True,\n",
        "                                   return_state=True)\n",
        "    self.dense = tf.keras.layers.Dense(vocab_size)\n",
        "\n",
        "  def call(self, inputs, states=None, return_state=False, training=False):\n",
        "    x = inputs\n",
        "    x = self.embedding(x, training=training)\n",
        "    if states is None:\n",
        "      states = self.gru.get_initial_state(x)\n",
        "    x, states = self.gru(x, initial_state=states, training=training)\n",
        "    x = self.dense(x, training=training)\n",
        "\n",
        "    if return_state:\n",
        "      return x, states\n",
        "    else:\n",
        "      return x"
      ],
      "metadata": {
        "id": "FGEVYWgqMmVw"
      },
      "execution_count": null,
      "outputs": []
    },
    {
      "cell_type": "code",
      "source": [
        "model = MyModel( vocab_size=len(ids_from_chars.get_vocabulary()), embedding_dim=embedding_dim, rnn_units=rnn_units)"
      ],
      "metadata": {
        "id": "obz2IiMxMo6B"
      },
      "execution_count": null,
      "outputs": []
    },
    {
      "cell_type": "code",
      "source": [
        "for input_example_batch, target_example_batch in dataset.take(1):\n",
        "    example_batch_predictions = model(input_example_batch)\n",
        "    print(example_batch_predictions.shape, \"# (batch_size, sequence_length, vocab_size)\")"
      ],
      "metadata": {
        "colab": {
          "base_uri": "https://localhost:8080/"
        },
        "id": "HmGHburFMsuv",
        "outputId": "c253fde2-a6d1-4637-c78a-99ba4065f2c2"
      },
      "execution_count": null,
      "outputs": [
        {
          "output_type": "stream",
          "name": "stdout",
          "text": [
            "(256, 100, 70) # (batch_size, sequence_length, vocab_size)\n"
          ]
        }
      ]
    },
    {
      "cell_type": "code",
      "source": [
        "model.summary()"
      ],
      "metadata": {
        "colab": {
          "base_uri": "https://localhost:8080/"
        },
        "id": "vAgtai2lM2Ap",
        "outputId": "39b80a5f-57e9-49d0-b770-527a8d83dfe2"
      },
      "execution_count": null,
      "outputs": [
        {
          "output_type": "stream",
          "name": "stdout",
          "text": [
            "Model: \"my_model_1\"\n",
            "_________________________________________________________________\n",
            " Layer (type)                Output Shape              Param #   \n",
            "=================================================================\n",
            " embedding_1 (Embedding)     multiple                  17920     \n",
            "                                                                 \n",
            " gru_1 (GRU)                 multiple                  3938304   \n",
            "                                                                 \n",
            " dense_1 (Dense)             multiple                  71750     \n",
            "                                                                 \n",
            "=================================================================\n",
            "Total params: 4,027,974\n",
            "Trainable params: 4,027,974\n",
            "Non-trainable params: 0\n",
            "_________________________________________________________________\n"
          ]
        }
      ]
    },
    {
      "cell_type": "code",
      "source": [
        "sampled_indices = tf.random.categorical(example_batch_predictions[0], num_samples=1)\n",
        "sampled_indices = tf.squeeze(sampled_indices, axis=-1).numpy()"
      ],
      "metadata": {
        "id": "Km0HJHcgM7IR"
      },
      "execution_count": null,
      "outputs": []
    },
    {
      "cell_type": "code",
      "source": [
        "sampled_indices"
      ],
      "metadata": {
        "colab": {
          "base_uri": "https://localhost:8080/"
        },
        "id": "VTb8E2oaNAD9",
        "outputId": "414d1813-6209-40fe-c2d0-c782c2bc14dc"
      },
      "execution_count": null,
      "outputs": [
        {
          "output_type": "execute_result",
          "data": {
            "text/plain": [
              "array([16, 18,  0, 14, 14, 22, 14, 61, 35, 52,  1, 14, 49, 49, 52, 45, 38,\n",
              "       59, 49,  4, 27, 34, 53,  9, 12, 46, 28,  5, 16,  0, 33, 69, 38, 23,\n",
              "        3, 38, 29, 11, 29, 52, 46, 50, 14,  5, 57, 11,  0, 37, 43, 22,  1,\n",
              "       16, 24, 63, 37,  5, 59, 65, 24, 22, 41,  8,  3, 67, 11, 29, 52, 46,\n",
              "       34, 34, 10, 54, 20, 45, 18, 45, 22, 66, 34, 17, 42, 57,  8, 46, 58,\n",
              "       26, 45, 14, 11, 19, 58, 66, 14, 28, 40, 18, 11, 57, 49, 26])"
            ]
          },
          "metadata": {},
          "execution_count": 100
        }
      ]
    },
    {
      "cell_type": "code",
      "source": [
        "print(\"Input:\\n\", text_from_ids(input_example_batch[0]).numpy())\n",
        "print()\n",
        "print(\"Next Char Predictions:\\n\", text_from_ids(sampled_indices).numpy())"
      ],
      "metadata": {
        "colab": {
          "base_uri": "https://localhost:8080/"
        },
        "id": "lcxFVfAMNDxA",
        "outputId": "22b7eadf-1530-41fc-a8e6-498f43a92d84"
      },
      "execution_count": null,
      "outputs": [
        {
          "output_type": "stream",
          "name": "stdout",
          "text": [
            "Input:\n",
            " b'm my own friends, and be my own protector. My life had hitherto\\r\\nbeen remarkably secluded and domest'\n",
            "\n",
            "Next Char Predictions:\n",
            " b\"pr[UNK]nnvn4IZanWWZSL2WdAH ilTBep[UNK]G\\nLwcLCkCZTXne'k[UNK]KQvapx6Ke28xvOhc0kCZTHHj.tSrSv9HqP'hT1zSnks19nBNrk'Wz\"\n"
          ]
        }
      ]
    },
    {
      "cell_type": "code",
      "source": [
        "loss = tf.losses.SparseCategoricalCrossentropy(from_logits=True)"
      ],
      "metadata": {
        "id": "MFWumz5VNQDR"
      },
      "execution_count": null,
      "outputs": []
    },
    {
      "cell_type": "code",
      "source": [
        "example_batch_mean_loss = loss(target_example_batch, example_batch_predictions)\n",
        "print(\"Prediction shape: \", example_batch_predictions.shape, \" # (batch_size, sequence_length, vocab_size)\")\n",
        "print(\"Mean loss:        \", example_batch_mean_loss)"
      ],
      "metadata": {
        "colab": {
          "base_uri": "https://localhost:8080/"
        },
        "id": "jiDS7iByNQ_F",
        "outputId": "bc1665ea-9b7a-4c4c-e36a-ed7fba4007f8"
      },
      "execution_count": null,
      "outputs": [
        {
          "output_type": "stream",
          "name": "stdout",
          "text": [
            "Prediction shape:  (256, 100, 70)  # (batch_size, sequence_length, vocab_size)\n",
            "Mean loss:         tf.Tensor(4.250032, shape=(), dtype=float32)\n"
          ]
        }
      ]
    },
    {
      "cell_type": "code",
      "source": [
        "model.compile(optimizer='adam', loss=loss)"
      ],
      "metadata": {
        "id": "LN0u4pxINTLJ"
      },
      "execution_count": null,
      "outputs": []
    },
    {
      "cell_type": "code",
      "source": [
        "# Directory where the checkpoints will be saved\n",
        "checkpoint_dir = './t_chkpoints'\n",
        "# Name of the checkpoint files\n",
        "checkpoint_prefix = os.path.join(checkpoint_dir, \"ckpt_{epoch}\")\n",
        "\n",
        "checkpoint_callback = tf.keras.callbacks.ModelCheckpoint(\n",
        "    filepath=checkpoint_prefix,\n",
        "    save_weights_only=True)"
      ],
      "metadata": {
        "id": "Rawyg7-bNXGR"
      },
      "execution_count": null,
      "outputs": []
    },
    {
      "cell_type": "code",
      "source": [
        "EPOCHS = 20"
      ],
      "metadata": {
        "id": "EFOCyFhONe02"
      },
      "execution_count": null,
      "outputs": []
    },
    {
      "cell_type": "code",
      "source": [
        "#\" Entrenado 8 veces con 20 epocas total 12 min\", a partir de la 3/6 epoca ya jala chido\n",
        "history = model.fit(dataset, epochs=EPOCHS, callbacks=[checkpoint_callback],verbose=1)\n",
        "model.save(checkpoint_dir)"
      ],
      "metadata": {
        "colab": {
          "base_uri": "https://localhost:8080/"
        },
        "id": "6KwT_QFNNhGK",
        "outputId": "716bd74d-4861-49d5-e35f-0c5863d30673"
      },
      "execution_count": null,
      "outputs": [
        {
          "output_type": "stream",
          "name": "stdout",
          "text": [
            "Epoch 1/20\n",
            "18/18 [==============================] - 7s 361ms/step - loss: 0.0624\n",
            "Epoch 2/20\n",
            "18/18 [==============================] - 5s 299ms/step - loss: 0.0625\n",
            "Epoch 3/20\n",
            "18/18 [==============================] - 4s 226ms/step - loss: 0.0625\n",
            "Epoch 4/20\n",
            "18/18 [==============================] - 5s 248ms/step - loss: 0.0628\n",
            "Epoch 5/20\n",
            "18/18 [==============================] - 5s 264ms/step - loss: 0.0624\n",
            "Epoch 6/20\n",
            "18/18 [==============================] - 5s 225ms/step - loss: 0.0623\n",
            "Epoch 7/20\n",
            "18/18 [==============================] - 6s 336ms/step - loss: 0.0623\n",
            "Epoch 8/20\n",
            "18/18 [==============================] - 5s 282ms/step - loss: 0.0623\n",
            "Epoch 9/20\n",
            "18/18 [==============================] - 7s 350ms/step - loss: 0.0623\n",
            "Epoch 10/20\n",
            "18/18 [==============================] - 6s 326ms/step - loss: 0.0623\n",
            "Epoch 11/20\n",
            "18/18 [==============================] - 5s 242ms/step - loss: 0.0626\n",
            "Epoch 12/20\n",
            "18/18 [==============================] - 6s 347ms/step - loss: 0.0632\n",
            "Epoch 13/20\n",
            "18/18 [==============================] - 6s 341ms/step - loss: 0.0630\n",
            "Epoch 14/20\n",
            "18/18 [==============================] - 5s 280ms/step - loss: 0.0628\n",
            "Epoch 15/20\n",
            "18/18 [==============================] - 6s 312ms/step - loss: 0.0626\n",
            "Epoch 16/20\n",
            "18/18 [==============================] - 6s 322ms/step - loss: 0.0625\n",
            "Epoch 17/20\n",
            "18/18 [==============================] - 7s 409ms/step - loss: 0.0625\n",
            "Epoch 18/20\n",
            "18/18 [==============================] - 6s 338ms/step - loss: 0.0628\n",
            "Epoch 19/20\n",
            "18/18 [==============================] - 6s 313ms/step - loss: 0.0625\n",
            "Epoch 20/20\n",
            "18/18 [==============================] - 6s 303ms/step - loss: 0.0630\n"
          ]
        },
        {
          "output_type": "stream",
          "name": "stderr",
          "text": [
            "WARNING:absl:Found untraced functions such as gru_cell_1_layer_call_fn, gru_cell_1_layer_call_and_return_conditional_losses while saving (showing 2 of 2). These functions will not be directly callable after loading.\n",
            "WARNING:absl:<keras.layers.recurrent.GRUCell object at 0x7f0cfc449690> has the same name 'GRUCell' as a built-in Keras object. Consider renaming <class 'keras.layers.recurrent.GRUCell'> to avoid naming conflicts when loading with `tf.keras.models.load_model`. If renaming is not possible, pass the object in the `custom_objects` parameter of the load function.\n"
          ]
        }
      ]
    },
    {
      "cell_type": "code",
      "source": [
        "class OneStep(tf.keras.Model):\n",
        "  def __init__(self, model, chars_from_ids, ids_from_chars, temperature=1.0):\n",
        "    super().__init__()\n",
        "    self.temperature = temperature\n",
        "    self.model = model\n",
        "    self.chars_from_ids = chars_from_ids\n",
        "    self.ids_from_chars = ids_from_chars\n",
        "\n",
        "    # Create a mask to prevent \"[UNK]\" from being generated.\n",
        "    skip_ids = self.ids_from_chars(['[UNK]'])[:, None]\n",
        "    sparse_mask = tf.SparseTensor(\n",
        "        # Put a -inf at each bad index.\n",
        "        values=[-float('inf')]*len(skip_ids),\n",
        "        indices=skip_ids,\n",
        "        # Match the shape to the vocabulary\n",
        "        dense_shape=[len(ids_from_chars.get_vocabulary())])\n",
        "    self.prediction_mask = tf.sparse.to_dense(sparse_mask)\n",
        "\n",
        "  @tf.function\n",
        "  def generate_one_step(self, inputs, states=None):\n",
        "    # Convert strings to token IDs.\n",
        "    input_chars = tf.strings.unicode_split(inputs, 'UTF-8')\n",
        "    input_ids = self.ids_from_chars(input_chars).to_tensor()\n",
        "\n",
        "    # Run the model.\n",
        "    # predicted_logits.shape is [batch, char, next_char_logits]\n",
        "    predicted_logits, states = self.model(inputs=input_ids, states=states,\n",
        "                                          return_state=True)\n",
        "    # Only use the last prediction.\n",
        "    predicted_logits = predicted_logits[:, -1, :]\n",
        "    predicted_logits = predicted_logits/self.temperature\n",
        "    # Apply the prediction mask: prevent \"[UNK]\" from being generated.\n",
        "    predicted_logits = predicted_logits + self.prediction_mask\n",
        "\n",
        "    # Sample the output logits to generate token IDs.\n",
        "    predicted_ids = tf.random.categorical(predicted_logits, num_samples=1)\n",
        "    predicted_ids = tf.squeeze(predicted_ids, axis=-1)\n",
        "\n",
        "    # Convert from token ids to characters\n",
        "    predicted_chars = self.chars_from_ids(predicted_ids)\n",
        "\n",
        "    # Return the characters and model state.\n",
        "    return predicted_chars, states"
      ],
      "metadata": {
        "id": "BAjG0NQim_OH"
      },
      "execution_count": null,
      "outputs": []
    },
    {
      "cell_type": "code",
      "source": [
        "one_step_model = OneStep(model, chars_from_ids, ids_from_chars)"
      ],
      "metadata": {
        "id": "awt6YSHTnGDc"
      },
      "execution_count": null,
      "outputs": []
    },
    {
      "cell_type": "code",
      "source": [
        "import time\n",
        "start = time.time()\n",
        "states = None\n",
        "next_char = tf.constant(['death'])\n",
        "result = [next_char]\n",
        "\n",
        "for n in range(200):\n",
        "  next_char, states = one_step_model.generate_one_step(next_char, states=states)\n",
        "  result.append(next_char)\n",
        "\n",
        "result = tf.strings.join(result)\n",
        "end = time.time()\n",
        "print(result[0].numpy().decode('utf-8'), '\\n\\n' + '_'*80)\n",
        "print('\\nRun time:', end - start)"
      ],
      "metadata": {
        "colab": {
          "base_uri": "https://localhost:8080/"
        },
        "id": "qbQvFbjCm0YC",
        "outputId": "e5ca6d60-204f-4d25-d1fc-62555a2496f6"
      },
      "execution_count": null,
      "outputs": [
        {
          "output_type": "stream",
          "name": "stdout",
          "text": [
            "death. I dare not ask you to do what I think right, for I\r\n",
            "may still be misled by passion.\r\n",
            "\r\n",
            "These murd a wretch as were gratified and reflection, I\r\n",
            "concluded that the justice due both to him and my fell \n",
            "\n",
            "________________________________________________________________________________\n",
            "\n",
            "Run time: 0.4778919219970703\n"
          ]
        }
      ]
    },
    {
      "cell_type": "code",
      "source": [
        "interesting_results=[]\n",
        "def save_results(result):\n",
        "  interesting_results.append(result)"
      ],
      "metadata": {
        "id": "OjK66w8Eh-p-"
      },
      "execution_count": null,
      "outputs": []
    },
    {
      "cell_type": "code",
      "source": [
        "save_results(result)"
      ],
      "metadata": {
        "id": "UEa_439tmF-6"
      },
      "execution_count": null,
      "outputs": []
    },
    {
      "cell_type": "code",
      "source": [
        "print(result)"
      ],
      "metadata": {
        "colab": {
          "base_uri": "https://localhost:8080/"
        },
        "id": "tm4V_t8RmcUF",
        "outputId": "965b80f8-7672-4365-fdd6-b9e742ce5c68"
      },
      "execution_count": null,
      "outputs": [
        {
          "output_type": "stream",
          "name": "stdout",
          "text": [
            "tf.Tensor([b'before me. I gasped for breath;\\r\\nand, throwing myself on the body, I excleained in the hemands, of which I\\r\\nshall jud the misery which he should real tho our smilis departed.\\r\\n\\r\\nAnd you will think of th'], shape=(1,), dtype=string)\n"
          ]
        }
      ]
    },
    {
      "cell_type": "code",
      "source": [
        "import time\n",
        "start = time.time()\n",
        "states = None\n",
        "next_char = tf.constant(['unio'])\n",
        "result = [next_char]\n",
        "\n",
        "for n in range(300):\n",
        "  next_char, states = one_step_model.generate_one_step(next_char, states=states)\n",
        "  result.append(next_char)\n",
        "\n",
        "result = tf.strings.join(result)\n",
        "end = time.time()\n",
        "print(result[0].numpy().decode('utf-8'), '\\n\\n' + '_'*80)\n",
        "print('\\nRun time:', end - start)"
      ],
      "metadata": {
        "colab": {
          "base_uri": "https://localhost:8080/"
        },
        "id": "_B7N3HdrCm_K",
        "outputId": "2ddb9d77-75d5-496d-91ff-a9ddc4e71360"
      },
      "execution_count": null,
      "outputs": [
        {
          "output_type": "stream",
          "name": "stdout",
          "text": [
            "union with me a sickening\r\n",
            "sinks into a long time braught; with you on your wedding nights. I passed through\r\n",
            "means cousin; I believe that it were better for you if you\r\n",
            "were dead, for I fancy when they were nearly extinction, that I should I bend my steps towards the trees.\r\n",
            "\r\n",
            "1.E.  If is impossible to \n",
            "\n",
            "________________________________________________________________________________\n",
            "\n",
            "Run time: 0.7463767528533936\n"
          ]
        }
      ]
    },
    {
      "cell_type": "code",
      "source": [
        "import time\n",
        "start = time.time()\n",
        "states = None\n",
        "next_char = tf.constant(['devil'])\n",
        "result = [next_char]\n",
        "\n",
        "for n in range(1000):\n",
        "  next_char, states = one_step_model.generate_one_step(next_char, states=states)\n",
        "  result.append(next_char)\n",
        "\n",
        "result = tf.strings.join(result)\n",
        "end = time.time()\n",
        "print(result[0].numpy().decode('utf-8'), '\\n\\n' + '_'*80)\n",
        "print('\\nRun time:', end - start)"
      ],
      "metadata": {
        "colab": {
          "base_uri": "https://localhost:8080/"
        },
        "id": "sshKbD9UE3CA",
        "outputId": "8ba5e1e6-cfc0-4b04-9882-530730468f5a"
      },
      "execution_count": null,
      "outputs": [
        {
          "output_type": "stream",
          "name": "stdout",
          "text": [
            "devil to reach other from\r\n",
            "the heavens; but now trademark allowed myself somewhat step to\r\n",
            "explained to me. As I sid, when it came its beauty and good; far every\r\n",
            "thought with delay to Geneva, there was so glaring a case,\r\n",
            "but I am glowing in the sledge, which had been judged in the\r\n",
            "ice crow him; had pursued its works that could destroy such radiant innocence, and sco longed to a brother\r\n",
            "can never, unkeredged and unother instruments by Elizabeth or a being again to convey me away, had\r\n",
            "seen a contempt to be nature to heart in contemplate it.\r\n",
            "\r\n",
            "I took my unhappiness to you, or that surprised myself be no\r\n",
            "endurduced in me a restiance and good; me with delay by the whole point of precedded\r\n",
            "These; a blank misfortune had such a declaration would have been welcome, instead of drink the true whom I had created. I had no regitt of\r\n",
            "the earth and kindness on which the spirits that I endured, and I felt a kind\r\n",
            "of panish me from these when Justine passioned in the same manner, placing it on the\r \n",
            "\n",
            "________________________________________________________________________________\n",
            "\n",
            "Run time: 2.535896062850952\n"
          ]
        }
      ]
    }
  ]
}